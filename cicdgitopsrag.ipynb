{
 "cells": [
  {
   "cell_type": "code",
   "execution_count": 3,
   "id": "f3cc7c9b-1615-44b4-9502-d374eb97daef",
   "metadata": {},
   "outputs": [
    {
     "name": "stdin",
     "output_type": "stream",
     "text": [
      "❓ Enter your DevOps-related question:  is it possible to leverage gitops without kubernetes?\n"
     ]
    },
    {
     "name": "stdout",
     "output_type": "stream",
     "text": [
      "\n",
      "📌 Prompt sent to GPT:\n",
      "\n",
      "\n",
      "You are an expert in DevOps. Based on the following literature evidence, answer the question:\n",
      "\n",
      "CONTEXT:\n",
      "GitOps built on native Kubernetes mechanisms.\n",
      "\n",
      "GitOps deployment tool for Kubernetes\n",
      "\n",
      "GitOps deployment tool for Kubernetes\n",
      "\n",
      "A GitOps continuous delivery tool for Kubernetes.\n",
      "\n",
      "GitOps delivery tool for Kubernetes\n",
      "\n",
      "QUESTION:\n",
      "is it possible to leverage gitops without kubernetes?\n",
      "\n",
      "ANSWER:\n",
      "\n",
      "✅ GPT-Generated Answer:\n",
      "\n",
      "The literature evidence provided does not contain information on whether GitOps can be leveraged without Kubernetes.\n"
     ]
    }
   ],
   "source": [
    "import pandas as pd\n",
    "from sentence_transformers import SentenceTransformer\n",
    "import faiss\n",
    "import numpy as np\n",
    "import openai\n",
    "\n",
    "# ✅ 1. Set your OpenAI API key securely\n",
    "api_key = \"your_openai_key\"\n",
    "\n",
    "# ✅ 2. Load dataset\n",
    "df = pd.read_excel(\"cicdgitops.xlsx\")\n",
    "contexts = df['Context'].astype(str).tolist()\n",
    "\n",
    "# ✅ 3. Generate dense embeddings\n",
    "model = SentenceTransformer('all-MiniLM-L6-v2')\n",
    "embeddings = model.encode(contexts)\n",
    "\n",
    "# ✅ 4. Create FAISS index for fast retrieval\n",
    "dimension = embeddings.shape[1]\n",
    "index = faiss.IndexFlatL2(dimension)\n",
    "index.add(np.array(embeddings))\n",
    "\n",
    "# ✅ 5. Define retriever function\n",
    "def rag_query(question, top_k=5):\n",
    "    query_vec = model.encode([question])\n",
    "    D, I = index.search(np.array(query_vec), top_k)\n",
    "    retrieved_contexts = [contexts[i] for i in I[0]]\n",
    "    context_block = \"\\n\\n\".join(retrieved_contexts)\n",
    "    \n",
    "    prompt = f\"\"\"\n",
    "You are an expert in DevOps. Based on the following literature evidence, answer the question:\n",
    "\n",
    "CONTEXT:\n",
    "{context_block}\n",
    "\n",
    "QUESTION:\n",
    "{question}\n",
    "\n",
    "ANSWER:\"\"\"\n",
    "    return prompt\n",
    "\n",
    "# ✅ 6. Define generator using OpenAI (v1.x syntax)\n",
    "client = openai.OpenAI(api_key=api_key)\n",
    "\n",
    "def generate_answer(prompt):\n",
    "    response = client.chat.completions.create(\n",
    "        model=\"gpt-4\",\n",
    "        messages=[{\"role\": \"user\", \"content\": prompt}],\n",
    "        temperature=0.3\n",
    "    )\n",
    "    return response.choices[0].message.content\n",
    "\n",
    "# ✅ 7. Interactive input from user\n",
    "question = input(\"❓ Enter your DevOps-related question: \")\n",
    "\n",
    "# Generate RAG prompt\n",
    "prompt = rag_query(question)\n",
    "print(\"\\n📌 Prompt sent to GPT:\\n\")\n",
    "print(prompt)\n",
    "\n",
    "# Generate answer\n",
    "print(\"\\n✅ GPT-Generated Answer:\\n\")\n",
    "answer = generate_answer(prompt)\n",
    "print(answer)\n",
    "\n"
   ]
  },
  {
   "cell_type": "code",
   "execution_count": null,
   "id": "41602291-3d7c-4f10-85b8-84c472352811",
   "metadata": {},
   "outputs": [],
   "source": []
  }
 ],
 "metadata": {
  "kernelspec": {
   "display_name": "Python 3 (ipykernel)",
   "language": "python",
   "name": "python3"
  },
  "language_info": {
   "codemirror_mode": {
    "name": "ipython",
    "version": 3
   },
   "file_extension": ".py",
   "mimetype": "text/x-python",
   "name": "python",
   "nbconvert_exporter": "python",
   "pygments_lexer": "ipython3",
   "version": "3.12.4"
  }
 },
 "nbformat": 4,
 "nbformat_minor": 5
}
